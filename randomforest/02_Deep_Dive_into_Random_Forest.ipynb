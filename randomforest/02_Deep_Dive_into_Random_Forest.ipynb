{
  "nbformat": 4,
  "nbformat_minor": 0,
  "metadata": {
    "kernelspec": {
      "name": "python3",
      "display_name": "Python 3"
    },
    "language_info": {
      "codemirror_mode": {
        "name": "ipython",
        "version": 3
      },
      "file_extension": ".py",
      "mimetype": "text/x-python",
      "name": "python",
      "nbconvert_exporter": "python",
      "pygments_lexer": "ipython3",
      "version": "3.7.3"
    },
    "colab": {
      "name": " 02 Deep_Dive_into_Random_Forest.ipynb",
      "provenance": [],
      "collapsed_sections": [
        "nNvvxOMKkOQt",
        "Cs1KeMbukmNF",
        "8tSQXtrrksTv",
        "au4Mo_R2Hxii",
        "H2kuRM81Hxip",
        "Neiw-mkrUAso",
        "4xlN-ExUVrpZ",
        "sxXtIpWWYIJm",
        "11qZebJSh1Zw"
      ],
      "toc_visible": true,
      "include_colab_link": true
    },
    "accelerator": "GPU"
  },
  "cells": [
    {
      "cell_type": "markdown",
      "metadata": {
        "id": "view-in-github",
        "colab_type": "text"
      },
      "source": [
        "<a href=\"https://colab.research.google.com/github/sudhira123/DataScience/blob/master/randomforest/02_Deep_Dive_into_Random_Forest.ipynb\" target=\"_parent\"><img src=\"https://colab.research.google.com/assets/colab-badge.svg\" alt=\"Open In Colab\"/></a>"
      ]
    },
    {
      "cell_type": "code",
      "metadata": {
        "id": "fXS1F7mAOR5h",
        "colab_type": "code",
        "outputId": "6e3ef955-fc07-4838-b453-7d92abd4d459",
        "colab": {
          "base_uri": "https://localhost:8080/",
          "height": 122
        }
      },
      "source": [
        "from google.colab import drive\n",
        "drive.mount('/content/drive')"
      ],
      "execution_count": 0,
      "outputs": [
        {
          "output_type": "stream",
          "text": [
            "Go to this URL in a browser: https://accounts.google.com/o/oauth2/auth?client_id=947318989803-6bn6qk8qdgf4n4g3pfee6491hc0brc4i.apps.googleusercontent.com&redirect_uri=urn%3Aietf%3Awg%3Aoauth%3A2.0%3Aoob&scope=email%20https%3A%2F%2Fwww.googleapis.com%2Fauth%2Fdocs.test%20https%3A%2F%2Fwww.googleapis.com%2Fauth%2Fdrive%20https%3A%2F%2Fwww.googleapis.com%2Fauth%2Fdrive.photos.readonly%20https%3A%2F%2Fwww.googleapis.com%2Fauth%2Fpeopleapi.readonly&response_type=code\n",
            "\n",
            "Enter your authorization code:\n",
            "··········\n",
            "Mounted at /content/drive\n"
          ],
          "name": "stdout"
        }
      ]
    },
    {
      "cell_type": "markdown",
      "metadata": {
        "id": "nNvvxOMKkOQt",
        "colab_type": "text"
      },
      "source": [
        "# Importing important libraries\n"
      ]
    },
    {
      "cell_type": "code",
      "metadata": {
        "id": "Am_jT3UyHxhs",
        "colab_type": "code",
        "colab": {}
      },
      "source": [
        "import pandas as pd\n",
        "import numpy as np\n",
        "\n",
        "from sklearn.ensemble import RandomForestRegressor\n",
        "from sklearn.metrics import confusion_matrix, mean_squared_error\n",
        "\n",
        "import matplotlib.pyplot as plt\n",
        "from sklearn.tree import export_graphviz\n",
        "import pydotplus\n",
        "from IPython import display\n",
        "from io import StringIO\n",
        "\n",
        "from fastai.imports import *\n"
      ],
      "execution_count": 0,
      "outputs": []
    },
    {
      "cell_type": "markdown",
      "metadata": {
        "id": "Cs1KeMbukmNF",
        "colab_type": "text"
      },
      "source": [
        "# Collecting Data"
      ]
    },
    {
      "cell_type": "code",
      "metadata": {
        "id": "26KXEHcYRxsk",
        "colab_type": "code",
        "outputId": "8b04329d-e6e3-4090-da8d-c06e865cf948",
        "colab": {
          "base_uri": "https://localhost:8080/",
          "height": 34
        }
      },
      "source": [
        "%cd drive/My\\ Drive"
      ],
      "execution_count": 0,
      "outputs": [
        {
          "output_type": "stream",
          "text": [
            "/content/drive/My Drive\n"
          ],
          "name": "stdout"
        }
      ]
    },
    {
      "cell_type": "code",
      "metadata": {
        "id": "ltOaIfu-S5HN",
        "colab_type": "code",
        "outputId": "82c9ac06-9961-425a-987a-4ce277fb7d49",
        "colab": {
          "base_uri": "https://localhost:8080/",
          "height": 34
        }
      },
      "source": [
        "!pwd"
      ],
      "execution_count": 0,
      "outputs": [
        {
          "output_type": "stream",
          "text": [
            "/content/drive/My Drive\n"
          ],
          "name": "stdout"
        }
      ]
    },
    {
      "cell_type": "code",
      "metadata": {
        "id": "LV63F1EITBfm",
        "colab_type": "code",
        "outputId": "58c850eb-4e5a-4da5-e195-d99cf19a9bfa",
        "colab": {
          "base_uri": "https://localhost:8080/",
          "height": 306
        }
      },
      "source": [
        "!ls"
      ],
      "execution_count": 0,
      "outputs": [
        {
          "output_type": "stream",
          "text": [
            "'03 Intro To Random Forrest.ipynb'\t      random_forest_benchmark_test.csv\n",
            " 188231-CHILD01MexicoVisaForm_RajaShree.pdf   Sudhira_resume.docx\n",
            " Automobile_data.csv\t\t\t      Sudhira_resume.gdoc\n",
            " bluebook-for-bulldozers.zip\t\t      ted.csv\n",
            "'Colab Notebooks'\t\t\t      Test.csv\n",
            "'Data Dictionary.xlsx'\t\t\t     'Train (1).csv'\n",
            "'Getting started.pdf'\t\t\t      Train.7z\n",
            " heart.csv\t\t\t\t      TrainAndValid.7z\n",
            "'InputFiles (1).gsheet'\t\t\t      TrainAndValid.csv\n",
            "'InputFiles (2).gsheet'\t\t\t      TrainAndValid.zip\n",
            " InputFiles.csv\t\t\t\t      Train.csv\n",
            " InputFiles.gsheet\t\t\t      Valid.7z\n",
            " InputFiles.xlsx\t\t\t      Valid.csv\n",
            " Machine_Appendix.csv\t\t\t      ValidSolution.csv\n",
            " median_benchmark.csv\t\t\t      Valid.zip\n",
            " Metro_Interstate_Traffic_Volume.csv\t      Vision_data.csv\n",
            " Outputfile.xlsx\t\t\t      whickham-Copy1.xls\n"
          ],
          "name": "stdout"
        }
      ]
    },
    {
      "cell_type": "code",
      "metadata": {
        "id": "mQ01ad8PRK8A",
        "colab_type": "code",
        "outputId": "3f640417-ae11-491d-e6c2-aeb84179888e",
        "colab": {
          "base_uri": "https://localhost:8080/",
          "height": 272
        }
      },
      "source": [
        "!unzip bluebook-for-bulldozers.zip"
      ],
      "execution_count": 0,
      "outputs": [
        {
          "output_type": "stream",
          "text": [
            "Archive:  bluebook-for-bulldozers.zip\n",
            "replace TrainAndValid.csv? [y]es, [n]o, [A]ll, [N]one, [r]ename: n\n",
            "  inflating: Train.zip               \n",
            "replace Train.7z? [y]es, [n]o, [A]ll, [N]one, [r]ename: n\n",
            "replace Valid.7z? [y]es, [n]o, [A]ll, [N]one, [r]ename: n\n",
            "replace Test.csv? [y]es, [n]o, [A]ll, [N]one, [r]ename: n\n",
            "replace Machine_Appendix.csv? [y]es, [n]o, [A]ll, [N]one, [r]ename: n\n",
            "replace median_benchmark.csv? [y]es, [n]o, [A]ll, [N]one, [r]ename: n\n",
            "replace ValidSolution.csv? [y]es, [n]o, [A]ll, [N]one, [r]ename: n\n",
            "replace TrainAndValid.7z? [y]es, [n]o, [A]ll, [N]one, [r]ename: n\n",
            "replace random_forest_benchmark_test.csv? [y]es, [n]o, [A]ll, [N]one, [r]ename: n\n",
            "replace Valid.zip? [y]es, [n]o, [A]ll, [N]one, [r]ename: n\n",
            "replace Data Dictionary.xlsx? [y]es, [n]o, [A]ll, [N]one, [r]ename: n\n",
            "replace TrainAndValid.zip? [y]es, [n]o, [A]ll, [N]one, [r]ename: n\n",
            "replace Valid.csv? [y]es, [n]o, [A]ll, [N]one, [r]ename: n\n"
          ],
          "name": "stdout"
        }
      ]
    },
    {
      "cell_type": "code",
      "metadata": {
        "id": "RpMRqCq8WuCV",
        "colab_type": "code",
        "outputId": "e9a617a0-c69c-4054-9aef-35481e60210c",
        "colab": {
          "base_uri": "https://localhost:8080/",
          "height": 119
        }
      },
      "source": [
        "!ls"
      ],
      "execution_count": 0,
      "outputs": [
        {
          "output_type": "stream",
          "text": [
            "'03 Intro To Random Forrest.ipynb'\t      InputFiles.xlsx\n",
            " 188231-CHILD01MexicoVisaForm_RajaShree.pdf   Outputfile.xlsx\n",
            " Automobile_data.csv\t\t\t      random\n",
            "'Colab Notebooks'\t\t\t      Sudhira_resume.docx\n",
            "'Getting started.pdf'\t\t\t      Sudhira_resume.gdoc\n",
            " heart.csv\t\t\t\t      whickham-Copy1.xls\n"
          ],
          "name": "stdout"
        }
      ]
    },
    {
      "cell_type": "code",
      "metadata": {
        "id": "shkck62rHxhv",
        "colab_type": "code",
        "colab": {}
      },
      "source": [
        "PATH = \"data-bluebook-for-bulldozers/\""
      ],
      "execution_count": 0,
      "outputs": []
    },
    {
      "cell_type": "code",
      "metadata": {
        "id": "kHzMzU2OWL5Y",
        "colab_type": "code",
        "outputId": "52a6c950-ccd4-4d8e-cca1-1e533816a449",
        "colab": {
          "base_uri": "https://localhost:8080/",
          "height": 34
        }
      },
      "source": [
        "%cd random"
      ],
      "execution_count": 0,
      "outputs": [
        {
          "output_type": "stream",
          "text": [
            "/content/drive/My Drive/random\n"
          ],
          "name": "stdout"
        }
      ]
    },
    {
      "cell_type": "code",
      "metadata": {
        "id": "SmIBtfi3Hxh3",
        "colab_type": "code",
        "outputId": "19f50c6f-dafd-4e43-98c3-397ddb1bf6a0",
        "colab": {
          "base_uri": "https://localhost:8080/",
          "height": 238
        }
      },
      "source": [
        "!ls "
      ],
      "execution_count": 0,
      "outputs": [
        {
          "output_type": "stream",
          "text": [
            " bluebook-for-bulldozers.zip\t      'Train (1).csv'\n",
            " data-bluebook-for-bulldozers\t       Train.7z\n",
            "'Data Dictionary.xlsx'\t\t       TrainAndValid.7z\n",
            "'InputFiles (1).gsheet'\t\t       TrainAndValid.csv\n",
            "'InputFiles (2).gsheet'\t\t       TrainAndValid.zip\n",
            " InputFiles.csv\t\t\t       Train.csv\n",
            " InputFiles.gsheet\t\t       Train.zip\n",
            " Machine_Appendix.csv\t\t       Valid.7z\n",
            " median_benchmark.csv\t\t       Valid.csv\n",
            " Metro_Interstate_Traffic_Volume.csv   ValidSolution.csv\n",
            " random_forest_benchmark_test.csv      Valid.zip\n",
            " ted.csv\t\t\t       Vision_data.csv\n",
            " Test.csv\n"
          ],
          "name": "stdout"
        }
      ]
    },
    {
      "cell_type": "code",
      "metadata": {
        "id": "062EVV3nHxh9",
        "colab_type": "code",
        "colab": {}
      },
      "source": [
        "data_raw = pd.read_csv('Train.csv',low_memory=False, \n",
        "                     parse_dates=[\"saledate\"] )"
      ],
      "execution_count": 0,
      "outputs": []
    },
    {
      "cell_type": "code",
      "metadata": {
        "id": "5uZDUk-VHxiB",
        "colab_type": "code",
        "colab": {}
      },
      "source": [
        "def display_all(df):\n",
        "    with pd.option_context(\"display.max_rows\", 1000, \"display.max_columns\", 1000): \n",
        "        display(df)"
      ],
      "execution_count": 0,
      "outputs": []
    },
    {
      "cell_type": "code",
      "metadata": {
        "id": "ljFfkoAPHxiE",
        "colab_type": "code",
        "colab": {}
      },
      "source": [
        "data_prac = data_raw.copy()"
      ],
      "execution_count": 0,
      "outputs": []
    },
    {
      "cell_type": "markdown",
      "metadata": {
        "id": "8tSQXtrrksTv",
        "colab_type": "text"
      },
      "source": [
        "# Learning the Data"
      ]
    },
    {
      "cell_type": "code",
      "metadata": {
        "id": "O6Olkiu7HxiG",
        "colab_type": "code",
        "outputId": "ee97b09f-a984-482d-f508-3e754d9739a8",
        "colab": {
          "base_uri": "https://localhost:8080/",
          "height": 1000
        }
      },
      "source": [
        "data_prac.info()"
      ],
      "execution_count": 0,
      "outputs": [
        {
          "output_type": "stream",
          "text": [
            "<class 'pandas.core.frame.DataFrame'>\n",
            "RangeIndex: 401125 entries, 0 to 401124\n",
            "Data columns (total 53 columns):\n",
            "SalesID                     401125 non-null int64\n",
            "SalePrice                   401125 non-null int64\n",
            "MachineID                   401125 non-null int64\n",
            "ModelID                     401125 non-null int64\n",
            "datasource                  401125 non-null int64\n",
            "auctioneerID                380989 non-null float64\n",
            "YearMade                    401125 non-null int64\n",
            "MachineHoursCurrentMeter    142765 non-null float64\n",
            "UsageBand                   69639 non-null object\n",
            "saledate                    401125 non-null datetime64[ns]\n",
            "fiModelDesc                 401125 non-null object\n",
            "fiBaseModel                 401125 non-null object\n",
            "fiSecondaryDesc             263934 non-null object\n",
            "fiModelSeries               56908 non-null object\n",
            "fiModelDescriptor           71919 non-null object\n",
            "ProductSize                 190350 non-null object\n",
            "fiProductClassDesc          401125 non-null object\n",
            "state                       401125 non-null object\n",
            "ProductGroup                401125 non-null object\n",
            "ProductGroupDesc            401125 non-null object\n",
            "Drive_System                104361 non-null object\n",
            "Enclosure                   400800 non-null object\n",
            "Forks                       192077 non-null object\n",
            "Pad_Type                    79134 non-null object\n",
            "Ride_Control                148606 non-null object\n",
            "Stick                       79134 non-null object\n",
            "Transmission                183230 non-null object\n",
            "Turbocharged                79134 non-null object\n",
            "Blade_Extension             25219 non-null object\n",
            "Blade_Width                 25219 non-null object\n",
            "Enclosure_Type              25219 non-null object\n",
            "Engine_Horsepower           25219 non-null object\n",
            "Hydraulics                  320570 non-null object\n",
            "Pushblock                   25219 non-null object\n",
            "Ripper                      104137 non-null object\n",
            "Scarifier                   25230 non-null object\n",
            "Tip_Control                 25219 non-null object\n",
            "Tire_Size                   94718 non-null object\n",
            "Coupler                     213952 non-null object\n",
            "Coupler_System              43458 non-null object\n",
            "Grouser_Tracks              43362 non-null object\n",
            "Hydraulics_Flow             43362 non-null object\n",
            "Track_Type                  99153 non-null object\n",
            "Undercarriage_Pad_Width     99872 non-null object\n",
            "Stick_Length                99218 non-null object\n",
            "Thumb                       99288 non-null object\n",
            "Pattern_Changer             99218 non-null object\n",
            "Grouser_Type                99153 non-null object\n",
            "Backhoe_Mounting            78672 non-null object\n",
            "Blade_Type                  79833 non-null object\n",
            "Travel_Controls             79834 non-null object\n",
            "Differential_Type           69411 non-null object\n",
            "Steering_Controls           69369 non-null object\n",
            "dtypes: datetime64[ns](1), float64(2), int64(6), object(44)\n",
            "memory usage: 162.2+ MB\n"
          ],
          "name": "stdout"
        }
      ]
    },
    {
      "cell_type": "code",
      "metadata": {
        "id": "UHMlzpl1HxiI",
        "colab_type": "code",
        "colab": {}
      },
      "source": [
        "def assigning_categorical(data, column):\n",
        "    categories = []\n",
        "    for i in data[column].unique():\n",
        "        categories.append(i)\n",
        "    try:    \n",
        "        categories.remove(np.nan)\n",
        "    except Exception as e:\n",
        "        pass\n",
        "    data[column+'_new'] = pd.Categorical(data[column], categories=categories, ordered=True).codes\n",
        "    data.drop(f'{column}', axis=1, inplace = True)\n",
        "    data.replace(-1, np.nan, inplace=True)"
      ],
      "execution_count": 0,
      "outputs": []
    },
    {
      "cell_type": "code",
      "metadata": {
        "id": "Yggb4uH9HxiK",
        "colab_type": "code",
        "colab": {}
      },
      "source": [
        "for i in data_prac.columns:\n",
        "    if data_prac[i].dtype == 'O':\n",
        "        try:\n",
        "            assigning_categorical(data_prac, i)\n",
        "        except Exception as e:\n",
        "            pass"
      ],
      "execution_count": 0,
      "outputs": []
    },
    {
      "cell_type": "code",
      "metadata": {
        "id": "RFGRHj82HxiM",
        "colab_type": "code",
        "colab": {}
      },
      "source": [
        "data_prac['saleyear'] = data_prac['saledate'].dt.year\n",
        "data_prac.drop('saledate', axis=1,inplace=True)"
      ],
      "execution_count": 0,
      "outputs": []
    },
    {
      "cell_type": "code",
      "metadata": {
        "id": "nVIQefc0HxiP",
        "colab_type": "code",
        "colab": {}
      },
      "source": [
        "data_prac.SalePrice = np.log(data_prac.SalePrice)"
      ],
      "execution_count": 0,
      "outputs": []
    },
    {
      "cell_type": "code",
      "metadata": {
        "id": "oZ_8Neg6HxiR",
        "colab_type": "code",
        "colab": {}
      },
      "source": [
        "for i in data_prac.columns:\n",
        "    data_prac[i] = data_prac[i].fillna(data_prac[i].median())"
      ],
      "execution_count": 0,
      "outputs": []
    },
    {
      "cell_type": "code",
      "metadata": {
        "id": "HblmOyrxHxia",
        "colab_type": "code",
        "colab": {}
      },
      "source": [
        "X = data_prac.drop('SalePrice', axis=1)\n",
        "y = data_prac.SalePrice"
      ],
      "execution_count": 0,
      "outputs": []
    },
    {
      "cell_type": "code",
      "metadata": {
        "id": "8_-osb7WHxie",
        "colab_type": "code",
        "outputId": "e0af3714-7c69-4be1-e13a-3711835a7e23",
        "colab": {
          "base_uri": "https://localhost:8080/",
          "height": 88
        }
      },
      "source": [
        "forr = RandomForestRegressor(n_jobs=-1)\n",
        "forr.fit(X,y)\n",
        "forr.score(X,y)"
      ],
      "execution_count": 0,
      "outputs": [
        {
          "output_type": "stream",
          "text": [
            "/usr/local/lib/python3.6/dist-packages/sklearn/ensemble/forest.py:245: FutureWarning: The default value of n_estimators will change from 10 in version 0.20 to 100 in 0.22.\n",
            "  \"10 in version 0.20 to 100 in 0.22.\", FutureWarning)\n"
          ],
          "name": "stderr"
        },
        {
          "output_type": "execute_result",
          "data": {
            "text/plain": [
              "0.9818594490681333"
            ]
          },
          "metadata": {
            "tags": []
          },
          "execution_count": 29
        }
      ]
    },
    {
      "cell_type": "markdown",
      "metadata": {
        "id": "au4Mo_R2Hxii",
        "colab_type": "text"
      },
      "source": [
        "# Creating Sets"
      ]
    },
    {
      "cell_type": "code",
      "metadata": {
        "id": "dWv46ddGHxij",
        "colab_type": "code",
        "outputId": "e61d0002-d06d-4efe-a5fd-2bfbb5dc1773",
        "colab": {
          "base_uri": "https://localhost:8080/",
          "height": 34
        }
      },
      "source": [
        "def split_vals(a,n): return a[:n].copy(), a[n:].copy()\n",
        "\n",
        "n_valid = 12000  # same as Kaggle's test set size\n",
        "n_trn = len(X)-n_valid\n",
        "raw_train, raw_valid = split_vals(data_prac, n_trn)\n",
        "X_train, X_valid = split_vals(X, n_trn)\n",
        "y_train, y_valid = split_vals(y, n_trn)\n",
        "\n",
        "X_train.shape, y_train.shape, X_valid.shape"
      ],
      "execution_count": 0,
      "outputs": [
        {
          "output_type": "execute_result",
          "data": {
            "text/plain": [
              "((389125, 52), (389125,), (12000, 52))"
            ]
          },
          "metadata": {
            "tags": []
          },
          "execution_count": 30
        }
      ]
    },
    {
      "cell_type": "code",
      "metadata": {
        "id": "hdAhYIiwe9fY",
        "colab_type": "code",
        "outputId": "23ff4b1b-afeb-4fb4-ffa7-02e0d7c78e5d",
        "colab": {
          "base_uri": "https://localhost:8080/",
          "height": 34
        }
      },
      "source": [
        "def sum(a,b): return a+b\n",
        "if 1==2: print(True); \n",
        "else: print(False)"
      ],
      "execution_count": 0,
      "outputs": [
        {
          "output_type": "stream",
          "text": [
            "False\n"
          ],
          "name": "stdout"
        }
      ]
    },
    {
      "cell_type": "markdown",
      "metadata": {
        "id": "H2kuRM81Hxip",
        "colab_type": "text"
      },
      "source": [
        "# Random Forests"
      ]
    },
    {
      "cell_type": "markdown",
      "metadata": {
        "id": "NNGx47Y9Hxiq",
        "colab_type": "text"
      },
      "source": [
        "## Base model\n",
        "\n",
        "Let's try our model again, this time with separate training and validation sets."
      ]
    },
    {
      "cell_type": "code",
      "metadata": {
        "id": "dHEELc3tHxir",
        "colab_type": "code",
        "colab": {}
      },
      "source": [
        "def rmse(x,y): return math.sqrt(((x-y)**2).mean())\n",
        "\n",
        "def print_score(m):\n",
        "    res = [rmse(m.predict(X_train), y_train), rmse(m.predict(X_valid), y_valid),\n",
        "                m.score(X_train, y_train), m.score(X_valid, y_valid)]\n",
        "    if hasattr(m, 'oob_score_'): res.append(m.oob_score_)\n",
        "    print(res)"
      ],
      "execution_count": 0,
      "outputs": []
    },
    {
      "cell_type": "code",
      "metadata": {
        "id": "gUP4mAk3Hxiu",
        "colab_type": "code",
        "outputId": "cfabf3a7-9968-4242-b21d-775f43e1f2a2",
        "colab": {
          "base_uri": "https://localhost:8080/",
          "height": 34
        }
      },
      "source": [
        "m = RandomForestRegressor(n_estimators=1, max_depth=3, bootstrap=False, n_jobs=-1)\n",
        "m.fit(X_train, y_train)\n",
        "print_score(m)"
      ],
      "execution_count": 0,
      "outputs": [
        {
          "output_type": "stream",
          "text": [
            "[0.5513536884318684, 0.5727537785897129, 0.3646758053798844, 0.41415341861049293]\n"
          ],
          "name": "stdout"
        }
      ]
    },
    {
      "cell_type": "code",
      "metadata": {
        "id": "6lo837keHxjB",
        "colab_type": "code",
        "colab": {}
      },
      "source": [
        "import graphviz\n",
        "import IPython\n",
        "\n",
        "def draw_tree(t, df, size=10, ratio=0.6, precision=0):\n",
        "    \"\"\" Draws a representation of a random forest in IPython.\n",
        "    Parameters:\n",
        "    -----------\n",
        "    t: The tree you wish to draw\n",
        "    df: The data used to train the tree. This is used to get the names of the features.\n",
        "    \"\"\"\n",
        "    s=export_graphviz(t, out_file=None, feature_names=df.columns, filled=True,\n",
        "                      special_characters=True, rotate=True, precision=precision)\n",
        "    IPython.display.display(graphviz.Source(re.sub('Tree {',\n",
        "       f'Tree {{ size={size}; ratio={ratio}', s)))"
      ],
      "execution_count": 0,
      "outputs": []
    },
    {
      "cell_type": "code",
      "metadata": {
        "id": "mjLW0GrBHxjH",
        "colab_type": "code",
        "outputId": "4e11de76-7816-4610-a61a-1b9acedc10af",
        "colab": {
          "base_uri": "https://localhost:8080/",
          "height": 600
        }
      },
      "source": [
        "draw_tree(m.estimators_[0], X, precision=3)"
      ],
      "execution_count": 0,
      "outputs": [
        {
          "output_type": "display_data",
          "data": {
            "text/plain": [
              "<graphviz.files.Source at 0x7f712e92dd30>"
            ],
            "image/svg+xml": "<?xml version=\"1.0\" encoding=\"UTF-8\" standalone=\"no\"?>\n<!DOCTYPE svg PUBLIC \"-//W3C//DTD SVG 1.1//EN\"\n \"http://www.w3.org/Graphics/SVG/1.1/DTD/svg11.dtd\">\n<!-- Generated by graphviz version 2.40.1 (20161225.0304)\n -->\n<!-- Title: Tree Pages: 1 -->\n<svg width=\"720pt\" height=\"434pt\"\n viewBox=\"0.00 0.00 720.00 434.49\" xmlns=\"http://www.w3.org/2000/svg\" xmlns:xlink=\"http://www.w3.org/1999/xlink\">\n<g id=\"graph0\" class=\"graph\" transform=\"scale(.7787 .7787) rotate(0) translate(4 554)\">\n<title>Tree</title>\n<polygon fill=\"#ffffff\" stroke=\"transparent\" points=\"-4,4 -4,-554 920.6667,-554 920.6667,4 -4,4\"/>\n<!-- 0 -->\n<g id=\"node1\" class=\"node\">\n<title>0</title>\n<polygon fill=\"#f7d8c1\" stroke=\"#000000\" points=\"154.1667,-336.5 15.1667,-336.5 15.1667,-268.5 154.1667,-268.5 154.1667,-336.5\"/>\n<text text-anchor=\"start\" x=\"23.1667\" y=\"-321.3\" font-family=\"Times,serif\" font-size=\"14.00\" fill=\"#000000\">Enclosure_new ≤ 0.5</text>\n<text text-anchor=\"start\" x=\"48.1667\" y=\"-306.3\" font-family=\"Times,serif\" font-size=\"14.00\" fill=\"#000000\">mse = 0.478</text>\n<text text-anchor=\"start\" x=\"31.6667\" y=\"-291.3\" font-family=\"Times,serif\" font-size=\"14.00\" fill=\"#000000\">samples = 389125</text>\n<text text-anchor=\"start\" x=\"40.6667\" y=\"-276.3\" font-family=\"Times,serif\" font-size=\"14.00\" fill=\"#000000\">value = 10.106</text>\n</g>\n<!-- 1 -->\n<g id=\"node2\" class=\"node\">\n<title>1</title>\n<polygon fill=\"#efaf81\" stroke=\"#000000\" points=\"425.6667,-372.5 233.6667,-372.5 233.6667,-304.5 425.6667,-304.5 425.6667,-372.5\"/>\n<text text-anchor=\"start\" x=\"241.6667\" y=\"-357.3\" font-family=\"Times,serif\" font-size=\"14.00\" fill=\"#000000\">ProductGroupDesc_new ≤ 3.5</text>\n<text text-anchor=\"start\" x=\"293.1667\" y=\"-342.3\" font-family=\"Times,serif\" font-size=\"14.00\" fill=\"#000000\">mse = 0.314</text>\n<text text-anchor=\"start\" x=\"280.1667\" y=\"-327.3\" font-family=\"Times,serif\" font-size=\"14.00\" fill=\"#000000\">samples = 84043</text>\n<text text-anchor=\"start\" x=\"285.6667\" y=\"-312.3\" font-family=\"Times,serif\" font-size=\"14.00\" fill=\"#000000\">value = 10.713</text>\n</g>\n<!-- 0&#45;&gt;1 -->\n<g id=\"edge1\" class=\"edge\">\n<title>0&#45;&gt;1</title>\n<path fill=\"none\" stroke=\"#000000\" d=\"M154.2185,-312.7199C175.7573,-315.8848 200.0004,-319.447 223.4349,-322.8904\"/>\n<polygon fill=\"#000000\" stroke=\"#000000\" points=\"223.0159,-326.3664 233.4186,-324.3574 224.0336,-319.4407 223.0159,-326.3664\"/>\n<text text-anchor=\"middle\" x=\"213.3588\" y=\"-335.5773\" font-family=\"Times,serif\" font-size=\"14.00\" fill=\"#000000\">True</text>\n</g>\n<!-- 8 -->\n<g id=\"node9\" class=\"node\">\n<title>8</title>\n<polygon fill=\"#f9e3d3\" stroke=\"#000000\" points=\"392.1667,-245.5 267.1667,-245.5 267.1667,-177.5 392.1667,-177.5 392.1667,-245.5\"/>\n<text text-anchor=\"start\" x=\"275.1667\" y=\"-230.3\" font-family=\"Times,serif\" font-size=\"14.00\" fill=\"#000000\">ModelID ≤ 4573.0</text>\n<text text-anchor=\"start\" x=\"293.1667\" y=\"-215.3\" font-family=\"Times,serif\" font-size=\"14.00\" fill=\"#000000\">mse = 0.394</text>\n<text text-anchor=\"start\" x=\"276.6667\" y=\"-200.3\" font-family=\"Times,serif\" font-size=\"14.00\" fill=\"#000000\">samples = 305082</text>\n<text text-anchor=\"start\" x=\"289.1667\" y=\"-185.3\" font-family=\"Times,serif\" font-size=\"14.00\" fill=\"#000000\">value = 9.938</text>\n</g>\n<!-- 0&#45;&gt;8 -->\n<g id=\"edge8\" class=\"edge\">\n<title>0&#45;&gt;8</title>\n<path fill=\"none\" stroke=\"#000000\" d=\"M154.2185,-276.6665C186.5372,-264.6624 224.9446,-250.3968 257.573,-238.2777\"/>\n<polygon fill=\"#000000\" stroke=\"#000000\" points=\"258.8995,-241.5186 267.0551,-234.7557 256.4622,-234.9567 258.8995,-241.5186\"/>\n<text text-anchor=\"middle\" x=\"244.3285\" y=\"-220.6394\" font-family=\"Times,serif\" font-size=\"14.00\" fill=\"#000000\">False</text>\n</g>\n<!-- 2 -->\n<g id=\"node3\" class=\"node\">\n<title>2</title>\n<polygon fill=\"#f0b48a\" stroke=\"#000000\" points=\"703.6667,-486.5 511.6667,-486.5 511.6667,-418.5 703.6667,-418.5 703.6667,-486.5\"/>\n<text text-anchor=\"start\" x=\"519.6667\" y=\"-471.3\" font-family=\"Times,serif\" font-size=\"14.00\" fill=\"#000000\">ProductGroupDesc_new ≤ 2.5</text>\n<text text-anchor=\"start\" x=\"571.1667\" y=\"-456.3\" font-family=\"Times,serif\" font-size=\"14.00\" fill=\"#000000\">mse = 0.292</text>\n<text text-anchor=\"start\" x=\"558.1667\" y=\"-441.3\" font-family=\"Times,serif\" font-size=\"14.00\" fill=\"#000000\">samples = 63810</text>\n<text text-anchor=\"start\" x=\"563.6667\" y=\"-426.3\" font-family=\"Times,serif\" font-size=\"14.00\" fill=\"#000000\">value = 10.635</text>\n</g>\n<!-- 1&#45;&gt;2 -->\n<g id=\"edge2\" class=\"edge\">\n<title>1&#45;&gt;2</title>\n<path fill=\"none\" stroke=\"#000000\" d=\"M412.6993,-372.5493C444.8813,-385.7463 481.8684,-400.9137 514.9181,-414.4664\"/>\n<polygon fill=\"#000000\" stroke=\"#000000\" points=\"514.0016,-417.8734 524.5819,-418.4293 516.6575,-411.3968 514.0016,-417.8734\"/>\n</g>\n<!-- 5 -->\n<g id=\"node6\" class=\"node\">\n<title>5</title>\n<polygon fill=\"#eb9e67\" stroke=\"#000000\" points=\"674.1667,-372.5 541.1667,-372.5 541.1667,-304.5 674.1667,-304.5 674.1667,-372.5\"/>\n<text text-anchor=\"start\" x=\"549.1667\" y=\"-357.3\" font-family=\"Times,serif\" font-size=\"14.00\" fill=\"#000000\">ModelID ≤ 23900.0</text>\n<text text-anchor=\"start\" x=\"571.1667\" y=\"-342.3\" font-family=\"Times,serif\" font-size=\"14.00\" fill=\"#000000\">mse = 0.301</text>\n<text text-anchor=\"start\" x=\"558.1667\" y=\"-327.3\" font-family=\"Times,serif\" font-size=\"14.00\" fill=\"#000000\">samples = 20233</text>\n<text text-anchor=\"start\" x=\"563.6667\" y=\"-312.3\" font-family=\"Times,serif\" font-size=\"14.00\" fill=\"#000000\">value = 10.962</text>\n</g>\n<!-- 1&#45;&gt;5 -->\n<g id=\"edge5\" class=\"edge\">\n<title>1&#45;&gt;5</title>\n<path fill=\"none\" stroke=\"#000000\" d=\"M425.7278,-338.5C459.9989,-338.5 498.1317,-338.5 530.5983,-338.5\"/>\n<polygon fill=\"#000000\" stroke=\"#000000\" points=\"530.9282,-342.0001 540.9282,-338.5 530.9281,-335.0001 530.9282,-342.0001\"/>\n</g>\n<!-- 3 -->\n<g id=\"node4\" class=\"node\">\n<title>3</title>\n<polygon fill=\"#efb184\" stroke=\"#000000\" points=\"900.1667,-550 785.1667,-550 785.1667,-497 900.1667,-497 900.1667,-550\"/>\n<text text-anchor=\"start\" x=\"806.1667\" y=\"-534.8\" font-family=\"Times,serif\" font-size=\"14.00\" fill=\"#000000\">mse = 0.286</text>\n<text text-anchor=\"start\" x=\"793.1667\" y=\"-519.8\" font-family=\"Times,serif\" font-size=\"14.00\" fill=\"#000000\">samples = 57081</text>\n<text text-anchor=\"start\" x=\"798.6667\" y=\"-504.8\" font-family=\"Times,serif\" font-size=\"14.00\" fill=\"#000000\">value = 10.691</text>\n</g>\n<!-- 2&#45;&gt;3 -->\n<g id=\"edge3\" class=\"edge\">\n<title>2&#45;&gt;3</title>\n<path fill=\"none\" stroke=\"#000000\" d=\"M703.9282,-481.5833C727.8883,-488.8223 753.0672,-496.4295 775.2991,-503.1464\"/>\n<polygon fill=\"#000000\" stroke=\"#000000\" points=\"774.3768,-506.5239 784.9617,-506.0657 776.4014,-499.8231 774.3768,-506.5239\"/>\n</g>\n<!-- 4 -->\n<g id=\"node5\" class=\"node\">\n<title>4</title>\n<polygon fill=\"#f6d4bc\" stroke=\"#000000\" points=\"896.1667,-479 789.1667,-479 789.1667,-426 896.1667,-426 896.1667,-479\"/>\n<text text-anchor=\"start\" x=\"806.1667\" y=\"-463.8\" font-family=\"Times,serif\" font-size=\"14.00\" fill=\"#000000\">mse = 0.086</text>\n<text text-anchor=\"start\" x=\"797.1667\" y=\"-448.8\" font-family=\"Times,serif\" font-size=\"14.00\" fill=\"#000000\">samples = 6729</text>\n<text text-anchor=\"start\" x=\"798.6667\" y=\"-433.8\" font-family=\"Times,serif\" font-size=\"14.00\" fill=\"#000000\">value = 10.156</text>\n</g>\n<!-- 2&#45;&gt;4 -->\n<g id=\"edge4\" class=\"edge\">\n<title>2&#45;&gt;4</title>\n<path fill=\"none\" stroke=\"#000000\" d=\"M703.9282,-452.5C729.2133,-452.5 755.8557,-452.5 778.9596,-452.5\"/>\n<polygon fill=\"#000000\" stroke=\"#000000\" points=\"778.9682,-456.0001 788.9681,-452.5 778.9681,-449.0001 778.9682,-456.0001\"/>\n</g>\n<!-- 6 -->\n<g id=\"node7\" class=\"node\">\n<title>6</title>\n<polygon fill=\"#eca571\" stroke=\"#000000\" points=\"900.1667,-408 785.1667,-408 785.1667,-355 900.1667,-355 900.1667,-408\"/>\n<text text-anchor=\"start\" x=\"806.1667\" y=\"-392.8\" font-family=\"Times,serif\" font-size=\"14.00\" fill=\"#000000\">mse = 0.285</text>\n<text text-anchor=\"start\" x=\"793.1667\" y=\"-377.8\" font-family=\"Times,serif\" font-size=\"14.00\" fill=\"#000000\">samples = 16797</text>\n<text text-anchor=\"start\" x=\"798.6667\" y=\"-362.8\" font-family=\"Times,serif\" font-size=\"14.00\" fill=\"#000000\">value = 10.872</text>\n</g>\n<!-- 5&#45;&gt;6 -->\n<g id=\"edge6\" class=\"edge\">\n<title>5&#45;&gt;6</title>\n<path fill=\"none\" stroke=\"#000000\" d=\"M674.3796,-350.7071C705.8478,-356.4651 743.334,-363.3242 774.9309,-369.1058\"/>\n<polygon fill=\"#000000\" stroke=\"#000000\" points=\"774.5009,-372.5852 784.9676,-370.9423 775.7609,-365.6995 774.5009,-372.5852\"/>\n</g>\n<!-- 7 -->\n<g id=\"node8\" class=\"node\">\n<title>7</title>\n<polygon fill=\"#e58139\" stroke=\"#000000\" points=\"896.1667,-337 789.1667,-337 789.1667,-284 896.1667,-284 896.1667,-337\"/>\n<text text-anchor=\"start\" x=\"806.1667\" y=\"-321.8\" font-family=\"Times,serif\" font-size=\"14.00\" fill=\"#000000\">mse = 0.146</text>\n<text text-anchor=\"start\" x=\"797.1667\" y=\"-306.8\" font-family=\"Times,serif\" font-size=\"14.00\" fill=\"#000000\">samples = 3436</text>\n<text text-anchor=\"start\" x=\"798.6667\" y=\"-291.8\" font-family=\"Times,serif\" font-size=\"14.00\" fill=\"#000000\">value = 11.402</text>\n</g>\n<!-- 5&#45;&gt;7 -->\n<g id=\"edge7\" class=\"edge\">\n<title>5&#45;&gt;7</title>\n<path fill=\"none\" stroke=\"#000000\" d=\"M674.3796,-330.5512C707.0723,-326.6559 746.2603,-321.9867 778.5918,-318.1345\"/>\n<polygon fill=\"#000000\" stroke=\"#000000\" points=\"779.3156,-321.5731 788.8312,-316.9144 778.4873,-314.6222 779.3156,-321.5731\"/>\n</g>\n<!-- 9 -->\n<g id=\"node10\" class=\"node\">\n<title>9</title>\n<polygon fill=\"#f6d2b8\" stroke=\"#000000\" points=\"673.1667,-245.5 542.1667,-245.5 542.1667,-177.5 673.1667,-177.5 673.1667,-245.5\"/>\n<text text-anchor=\"start\" x=\"550.1667\" y=\"-230.3\" font-family=\"Times,serif\" font-size=\"14.00\" fill=\"#000000\">YearMade ≤ 1973.5</text>\n<text text-anchor=\"start\" x=\"571.1667\" y=\"-215.3\" font-family=\"Times,serif\" font-size=\"14.00\" fill=\"#000000\">mse = 0.356</text>\n<text text-anchor=\"start\" x=\"554.6667\" y=\"-200.3\" font-family=\"Times,serif\" font-size=\"14.00\" fill=\"#000000\">samples = 135888</text>\n<text text-anchor=\"start\" x=\"563.6667\" y=\"-185.3\" font-family=\"Times,serif\" font-size=\"14.00\" fill=\"#000000\">value = 10.191</text>\n</g>\n<!-- 8&#45;&gt;9 -->\n<g id=\"edge9\" class=\"edge\">\n<title>8&#45;&gt;9</title>\n<path fill=\"none\" stroke=\"#000000\" d=\"M392.4019,-211.5C433.7044,-211.5 488.0185,-211.5 531.7553,-211.5\"/>\n<polygon fill=\"#000000\" stroke=\"#000000\" points=\"531.7722,-215.0001 541.7722,-211.5 531.7721,-208.0001 531.7722,-215.0001\"/>\n</g>\n<!-- 12 -->\n<g id=\"node13\" class=\"node\">\n<title>12</title>\n<polygon fill=\"#fcf1e9\" stroke=\"#000000\" points=\"703.6667,-131.5 511.6667,-131.5 511.6667,-63.5 703.6667,-63.5 703.6667,-131.5\"/>\n<text text-anchor=\"start\" x=\"519.6667\" y=\"-116.3\" font-family=\"Times,serif\" font-size=\"14.00\" fill=\"#000000\">ProductGroupDesc_new ≤ 1.5</text>\n<text text-anchor=\"start\" x=\"571.1667\" y=\"-101.3\" font-family=\"Times,serif\" font-size=\"14.00\" fill=\"#000000\">mse = 0.332</text>\n<text text-anchor=\"start\" x=\"554.6667\" y=\"-86.3\" font-family=\"Times,serif\" font-size=\"14.00\" fill=\"#000000\">samples = 169194</text>\n<text text-anchor=\"start\" x=\"567.1667\" y=\"-71.3\" font-family=\"Times,serif\" font-size=\"14.00\" fill=\"#000000\">value = 9.735</text>\n</g>\n<!-- 8&#45;&gt;12 -->\n<g id=\"edge12\" class=\"edge\">\n<title>8&#45;&gt;12</title>\n<path fill=\"none\" stroke=\"#000000\" d=\"M392.4019,-185.774C428.653,-170.9085 474.9277,-151.9325 515.2765,-135.3866\"/>\n<polygon fill=\"#000000\" stroke=\"#000000\" points=\"516.6656,-138.5999 524.59,-131.5674 514.0097,-132.1233 516.6656,-138.5999\"/>\n</g>\n<!-- 10 -->\n<g id=\"node11\" class=\"node\">\n<title>10</title>\n<polygon fill=\"#fceee5\" stroke=\"#000000\" points=\"900.1667,-266 785.1667,-266 785.1667,-213 900.1667,-213 900.1667,-266\"/>\n<text text-anchor=\"start\" x=\"810.1667\" y=\"-250.8\" font-family=\"Times,serif\" font-size=\"14.00\" fill=\"#000000\">mse = 0.24</text>\n<text text-anchor=\"start\" x=\"793.1667\" y=\"-235.8\" font-family=\"Times,serif\" font-size=\"14.00\" fill=\"#000000\">samples = 19486</text>\n<text text-anchor=\"start\" x=\"806.1667\" y=\"-220.8\" font-family=\"Times,serif\" font-size=\"14.00\" fill=\"#000000\">value = 9.77</text>\n</g>\n<!-- 9&#45;&gt;10 -->\n<g id=\"edge10\" class=\"edge\">\n<title>9&#45;&gt;10</title>\n<path fill=\"none\" stroke=\"#000000\" d=\"M673.4398,-219.3368C705.0509,-223.1032 742.9025,-227.6132 774.7841,-231.4119\"/>\n<polygon fill=\"#000000\" stroke=\"#000000\" points=\"774.5661,-234.9106 784.91,-232.6184 775.3943,-227.9597 774.5661,-234.9106\"/>\n</g>\n<!-- 11 -->\n<g id=\"node12\" class=\"node\">\n<title>11</title>\n<polygon fill=\"#f5cdb1\" stroke=\"#000000\" points=\"903.6667,-195 781.6667,-195 781.6667,-142 903.6667,-142 903.6667,-195\"/>\n<text text-anchor=\"start\" x=\"806.1667\" y=\"-179.8\" font-family=\"Times,serif\" font-size=\"14.00\" fill=\"#000000\">mse = 0.341</text>\n<text text-anchor=\"start\" x=\"789.6667\" y=\"-164.8\" font-family=\"Times,serif\" font-size=\"14.00\" fill=\"#000000\">samples = 116402</text>\n<text text-anchor=\"start\" x=\"798.6667\" y=\"-149.8\" font-family=\"Times,serif\" font-size=\"14.00\" fill=\"#000000\">value = 10.261</text>\n</g>\n<!-- 9&#45;&gt;11 -->\n<g id=\"edge11\" class=\"edge\">\n<title>9&#45;&gt;11</title>\n<path fill=\"none\" stroke=\"#000000\" d=\"M673.4398,-199.4649C703.9481,-193.8825 740.2693,-187.2365 771.4264,-181.5355\"/>\n<polygon fill=\"#000000\" stroke=\"#000000\" points=\"772.1402,-184.963 781.3469,-179.7202 770.8802,-178.0774 772.1402,-184.963\"/>\n</g>\n<!-- 13 -->\n<g id=\"node14\" class=\"node\">\n<title>13</title>\n<polygon fill=\"#ffffff\" stroke=\"#000000\" points=\"900.1667,-124 785.1667,-124 785.1667,-71 900.1667,-71 900.1667,-124\"/>\n<text text-anchor=\"start\" x=\"806.1667\" y=\"-108.8\" font-family=\"Times,serif\" font-size=\"14.00\" fill=\"#000000\">mse = 0.338</text>\n<text text-anchor=\"start\" x=\"793.1667\" y=\"-93.8\" font-family=\"Times,serif\" font-size=\"14.00\" fill=\"#000000\">samples = 61515</text>\n<text text-anchor=\"start\" x=\"802.1667\" y=\"-78.8\" font-family=\"Times,serif\" font-size=\"14.00\" fill=\"#000000\">value = 9.521</text>\n</g>\n<!-- 12&#45;&gt;13 -->\n<g id=\"edge13\" class=\"edge\">\n<title>12&#45;&gt;13</title>\n<path fill=\"none\" stroke=\"#000000\" d=\"M703.9282,-97.5C727.6734,-97.5 752.6157,-97.5 774.7002,-97.5\"/>\n<polygon fill=\"#000000\" stroke=\"#000000\" points=\"774.9618,-101.0001 784.9617,-97.5 774.9617,-94.0001 774.9618,-101.0001\"/>\n</g>\n<!-- 14 -->\n<g id=\"node15\" class=\"node\">\n<title>14</title>\n<polygon fill=\"#fae9dc\" stroke=\"#000000\" points=\"903.6667,-53 781.6667,-53 781.6667,0 903.6667,0 903.6667,-53\"/>\n<text text-anchor=\"start\" x=\"806.1667\" y=\"-37.8\" font-family=\"Times,serif\" font-size=\"14.00\" fill=\"#000000\">mse = 0.287</text>\n<text text-anchor=\"start\" x=\"789.6667\" y=\"-22.8\" font-family=\"Times,serif\" font-size=\"14.00\" fill=\"#000000\">samples = 107679</text>\n<text text-anchor=\"start\" x=\"802.1667\" y=\"-7.8\" font-family=\"Times,serif\" font-size=\"14.00\" fill=\"#000000\">value = 9.857</text>\n</g>\n<!-- 12&#45;&gt;14 -->\n<g id=\"edge14\" class=\"edge\">\n<title>12&#45;&gt;14</title>\n<path fill=\"none\" stroke=\"#000000\" d=\"M703.9282,-68.4167C726.6817,-61.5423 750.5343,-54.3357 771.9184,-47.875\"/>\n<polygon fill=\"#000000\" stroke=\"#000000\" points=\"772.9966,-51.2056 781.557,-44.9629 770.9721,-44.5047 772.9966,-51.2056\"/>\n</g>\n</g>\n</svg>\n"
          },
          "metadata": {
            "tags": []
          }
        }
      ]
    },
    {
      "cell_type": "markdown",
      "metadata": {
        "id": "0Bf4R7B3Tz_r",
        "colab_type": "text"
      },
      "source": [
        "Creating a bigger tree"
      ]
    },
    {
      "cell_type": "code",
      "metadata": {
        "id": "hCOF9hM4HxjJ",
        "colab_type": "code",
        "outputId": "293fc826-554d-484b-8f6f-ba63e5cc9d74",
        "colab": {
          "base_uri": "https://localhost:8080/",
          "height": 34
        }
      },
      "source": [
        "m = RandomForestRegressor(n_estimators=1, bootstrap=False, n_jobs=-1)\n",
        "m.fit(X_train, y_train)\n",
        "print_score(m)"
      ],
      "execution_count": 0,
      "outputs": [
        {
          "output_type": "stream",
          "text": [
            "[9.128523288431049e-07, 0.3780168604151082, 0.9999999999982585, 0.7448060844195227]\n"
          ],
          "name": "stdout"
        }
      ]
    },
    {
      "cell_type": "markdown",
      "metadata": {
        "id": "Neiw-mkrUAso",
        "colab_type": "text"
      },
      "source": [
        "# Bagging"
      ]
    },
    {
      "cell_type": "markdown",
      "metadata": {
        "id": "bsPfKUGOUDlH",
        "colab_type": "text"
      },
      "source": [
        "## Intro to bagging\n",
        "\n",
        "To learn about bagging in random forests, let's start with our basic model again."
      ]
    },
    {
      "cell_type": "code",
      "metadata": {
        "id": "iZDnFzaQT_u8",
        "colab_type": "code",
        "outputId": "49eea6c9-5f13-4402-9e99-cb3cc4996816",
        "colab": {
          "base_uri": "https://localhost:8080/",
          "height": 87
        }
      },
      "source": [
        "m = RandomForestRegressor(n_jobs=-1)\n",
        "m.fit(X_train, y_train)\n",
        "print_score(m)"
      ],
      "execution_count": 0,
      "outputs": [
        {
          "output_type": "stream",
          "text": [
            "/usr/local/lib/python3.6/dist-packages/sklearn/ensemble/forest.py:245: FutureWarning: The default value of n_estimators will change from 10 in version 0.20 to 100 in 0.22.\n",
            "  \"10 in version 0.20 to 100 in 0.22.\", FutureWarning)\n"
          ],
          "name": "stderr"
        },
        {
          "output_type": "stream",
          "text": [
            "[0.0936756244393726, 0.25695322745456034, 0.9816604776803335, 0.8820885098419632]\n"
          ],
          "name": "stdout"
        }
      ]
    },
    {
      "cell_type": "code",
      "metadata": {
        "id": "dOVL4yqUTsMs",
        "colab_type": "code",
        "outputId": "b4d53e6b-a7cb-4c8f-d6dd-b3d06fe9ddc3",
        "colab": {
          "base_uri": "https://localhost:8080/",
          "height": 202
        }
      },
      "source": [
        "preds = np.stack([t.predict(X_valid) for t in m.estimators_])\n",
        "preds[:,0], np.mean(preds[:,0]), y_valid[:1]\n"
      ],
      "execution_count": 0,
      "outputs": [
        {
          "output_type": "execute_result",
          "data": {
            "text/plain": [
              "(array([8.95544812, 9.21034037, 9.21034037, 9.082507  , 9.10497986,\n",
              "        9.21034037, 9.10497986, 9.21034037, 9.21034037, 9.21034037,\n",
              "        8.98719682, 9.39266193, 9.21034037, 8.98719682, 9.39266193,\n",
              "        8.98719682, 9.21034037, 9.21034037, 9.21034037, 9.10497986,\n",
              "        9.10497986, 9.10497986, 9.04782144, 9.13237883, 9.21034037,\n",
              "        9.10497986, 9.39266193, 8.98719682, 9.21034037, 9.21034037,\n",
              "        9.10497986, 9.21034037, 9.21034037, 9.21034037, 9.21034037,\n",
              "        9.10497986, 8.93590353, 8.98719682, 9.21034037, 9.21034037]),\n",
              " 9.152608368244689,\n",
              " 389125    9.10498\n",
              " Name: SalePrice, dtype: float64)"
            ]
          },
          "metadata": {
            "tags": []
          },
          "execution_count": 58
        }
      ]
    },
    {
      "cell_type": "code",
      "metadata": {
        "id": "CasaNNaUUUJ3",
        "colab_type": "code",
        "outputId": "1fd7bc93-95f2-4e6f-eb3c-f7cadd8ccb1b",
        "colab": {
          "base_uri": "https://localhost:8080/",
          "height": 34
        }
      },
      "source": [
        "y_valid.shape"
      ],
      "execution_count": 0,
      "outputs": [
        {
          "output_type": "execute_result",
          "data": {
            "text/plain": [
              "(12000,)"
            ]
          },
          "metadata": {
            "tags": []
          },
          "execution_count": 39
        }
      ]
    },
    {
      "cell_type": "code",
      "metadata": {
        "id": "WFpT2WfTU2DA",
        "colab_type": "code",
        "outputId": "f8b636d1-99b9-4177-9be6-48ba749e10d5",
        "colab": {
          "base_uri": "https://localhost:8080/",
          "height": 50
        }
      },
      "source": [
        "y_valid[0:1]"
      ],
      "execution_count": 0,
      "outputs": [
        {
          "output_type": "execute_result",
          "data": {
            "text/plain": [
              "389125    9.10498\n",
              "Name: SalePrice, dtype: float64"
            ]
          },
          "metadata": {
            "tags": []
          },
          "execution_count": 57
        }
      ]
    },
    {
      "cell_type": "code",
      "metadata": {
        "id": "MLFJXppVVCXT",
        "colab_type": "code",
        "outputId": "dfa65e6a-73ac-4605-a3fa-9fc59fc79d24",
        "colab": {
          "base_uri": "https://localhost:8080/",
          "height": 34
        }
      },
      "source": [
        "preds.shape"
      ],
      "execution_count": 0,
      "outputs": [
        {
          "output_type": "execute_result",
          "data": {
            "text/plain": [
              "(10, 12000)"
            ]
          },
          "metadata": {
            "tags": []
          },
          "execution_count": 43
        }
      ]
    },
    {
      "cell_type": "code",
      "metadata": {
        "id": "mllsZ99QVP7e",
        "colab_type": "code",
        "outputId": "e25f14dd-331b-49dd-87fa-d9fe29fd60a1",
        "colab": {
          "base_uri": "https://localhost:8080/",
          "height": 269
        }
      },
      "source": [
        "from sklearn.metrics import r2_score\n",
        "plt.plot([r2_score(y_valid, np.mean(preds[:i+1], axis=0)) for i in range(10)]);"
      ],
      "execution_count": 0,
      "outputs": [
        {
          "output_type": "display_data",
          "data": {
            "image/png": "[encoded data removed]",
            "text/plain": [
              "<Figure size 432x288 with 1 Axes>"
            ]
          },
          "metadata": {
            "tags": []
          }
        }
      ]
    },
    {
      "cell_type": "markdown",
      "metadata": {
        "id": "zXzAJjRAVetF",
        "colab_type": "text"
      },
      "source": [
        "The shape of this curve suggests that adding more trees isn't going to help us much. Let's check. (Compare this to our original model on a sample)"
      ]
    },
    {
      "cell_type": "code",
      "metadata": {
        "id": "GEMeV4FgVSw6",
        "colab_type": "code",
        "outputId": "0ae585ba-a53b-4793-a0d8-72bc2ec68221",
        "colab": {
          "base_uri": "https://localhost:8080/",
          "height": 34
        }
      },
      "source": [
        "m = RandomForestRegressor(n_estimators=20, n_jobs=-1)\n",
        "m.fit(X_train, y_train)\n",
        "print_score(m)"
      ],
      "execution_count": 0,
      "outputs": [
        {
          "output_type": "stream",
          "text": [
            "[0.08570470346167433, 0.2487474560771727, 0.9846487360410744, 0.8894992387644246]\n"
          ],
          "name": "stdout"
        }
      ]
    },
    {
      "cell_type": "code",
      "metadata": {
        "id": "6sdSQKgSVjgy",
        "colab_type": "code",
        "outputId": "c195cbab-ce2c-43c7-fc9f-b04848b560f4",
        "colab": {
          "base_uri": "https://localhost:8080/",
          "height": 34
        }
      },
      "source": [
        "m = RandomForestRegressor(n_estimators=40, n_jobs=-1)\n",
        "m.fit(X_train, y_train)\n",
        "print_score(m)"
      ],
      "execution_count": 0,
      "outputs": [
        {
          "output_type": "stream",
          "text": [
            "[0.08126250979573663, 0.2424196420882945, 0.9861988495936823, 0.8950497239166417]\n"
          ],
          "name": "stdout"
        }
      ]
    },
    {
      "cell_type": "code",
      "metadata": {
        "id": "QQ7m__AjVlcv",
        "colab_type": "code",
        "outputId": "e8bc19f9-6eaf-44c0-e8d2-f128373417c3",
        "colab": {
          "base_uri": "https://localhost:8080/",
          "height": 34
        }
      },
      "source": [
        "m = RandomForestRegressor(n_estimators=80, n_jobs=-1)\n",
        "m.fit(X_train, y_train)\n",
        "print_score(m)"
      ],
      "execution_count": 0,
      "outputs": [
        {
          "output_type": "stream",
          "text": [
            "[0.07886808680249913, 0.24002177351068626, 0.9870001770474798, 0.8971156650075292]\n"
          ],
          "name": "stdout"
        }
      ]
    },
    {
      "cell_type": "markdown",
      "metadata": {
        "id": "4xlN-ExUVrpZ",
        "colab_type": "text"
      },
      "source": [
        "# Out-of-bag (OOB) score\n",
        "Is our validation set worse than our training set because we're over-fitting, or because the validation set is for a different time period, or a bit of both? With the existing information we've shown, we can't tell. However, random forests have a very clever trick called out-of-bag (OOB) error which can handle this (and more!)\n",
        "\n",
        "The idea is to calculate error on the training set, but only include the trees in the calculation of a row's error where that row was not included in training that tree. This allows us to see whether the model is over-fitting, without needing a separate validation set.\n",
        "\n",
        "This also has the benefit of allowing us to see whether our model generalizes, even if we only have a small amount of data so want to avoid separating some out to create a validation set.\n",
        "\n",
        "This is as simple as adding one more parameter to our model constructor. We print the OOB error last in our print_score function below."
      ]
    },
    {
      "cell_type": "code",
      "metadata": {
        "id": "w0RFhaYyVosP",
        "colab_type": "code",
        "outputId": "eab915cf-16c4-42a2-b8fd-5a575b10d25e",
        "colab": {
          "base_uri": "https://localhost:8080/",
          "height": 34
        }
      },
      "source": [
        "m = RandomForestRegressor(n_estimators=40, n_jobs=-1, oob_score=True)\n",
        "m.fit(X_train, y_train)\n",
        "print_score(m)"
      ],
      "execution_count": 0,
      "outputs": [
        {
          "output_type": "stream",
          "text": [
            "[0.08099853120660708, 0.2436479590898027, 0.986288369122448, 0.8939834835724925, 0.9021319454746931]\n"
          ],
          "name": "stdout"
        }
      ]
    },
    {
      "cell_type": "markdown",
      "metadata": {
        "id": "sxXtIpWWYIJm",
        "colab_type": "text"
      },
      "source": [
        "# Reducing over-fitting\n",
        "\n",
        "## Subsampling\n",
        "\n",
        "It turns out that one of the easiest ways to avoid over-fitting is also one of the best ways to speed up analysis: subsampling. Let's return to using our full dataset, so that we can demonstrate the impact of this technique."
      ]
    },
    {
      "cell_type": "code",
      "metadata": {
        "id": "yGQ6C8mJX8Gb",
        "colab_type": "code",
        "colab": {}
      },
      "source": [
        "data_sample = data_prac.sample(20000)"
      ],
      "execution_count": 0,
      "outputs": []
    },
    {
      "cell_type": "code",
      "metadata": {
        "id": "s1qSNe0cfs1g",
        "colab_type": "code",
        "outputId": "07c1b7c9-b8c2-4bf5-cbc3-badae773da92",
        "colab": {
          "base_uri": "https://localhost:8080/",
          "height": 34
        }
      },
      "source": [
        "len(data_sample)"
      ],
      "execution_count": 0,
      "outputs": [
        {
          "output_type": "execute_result",
          "data": {
            "text/plain": [
              "20000"
            ]
          },
          "metadata": {
            "tags": []
          },
          "execution_count": 60
        }
      ]
    },
    {
      "cell_type": "code",
      "metadata": {
        "id": "z-pMjnMGgDTO",
        "colab_type": "code",
        "colab": {}
      },
      "source": [
        "X = data_sample.drop('SalePrice', axis=1)\n",
        "y = data_sample.SalePrice"
      ],
      "execution_count": 0,
      "outputs": []
    },
    {
      "cell_type": "code",
      "metadata": {
        "id": "SNk2NONAfvLL",
        "colab_type": "code",
        "outputId": "3730de14-36ef-48a3-9e2b-998c23e68def",
        "colab": {
          "base_uri": "https://localhost:8080/",
          "height": 34
        }
      },
      "source": [
        "X_train, X_valid = split_vals(X, 12000)\n",
        "y_train, y_valid = split_vals(y, 12000)\n",
        "\n",
        "X_train.shape, y_train.shape, X_valid.shape"
      ],
      "execution_count": 0,
      "outputs": [
        {
          "output_type": "execute_result",
          "data": {
            "text/plain": [
              "((12000, 52), (12000,), (8000, 52))"
            ]
          },
          "metadata": {
            "tags": []
          },
          "execution_count": 67
        }
      ]
    },
    {
      "cell_type": "code",
      "metadata": {
        "id": "wq2Q8M09gPk0",
        "colab_type": "code",
        "outputId": "7077d8a2-3ce6-4edc-ce0f-3bf1386e8a5a",
        "colab": {
          "base_uri": "https://localhost:8080/",
          "height": 154
        }
      },
      "source": [
        "m = RandomForestRegressor(n_jobs=-1, oob_score=True)\n",
        "%time m.fit(X_train, y_train)\n",
        "print_score(m)"
      ],
      "execution_count": 0,
      "outputs": [
        {
          "output_type": "stream",
          "text": [
            "/usr/local/lib/python3.6/dist-packages/sklearn/ensemble/forest.py:245: FutureWarning: The default value of n_estimators will change from 10 in version 0.20 to 100 in 0.22.\n",
            "  \"10 in version 0.20 to 100 in 0.22.\", FutureWarning)\n",
            "/usr/local/lib/python3.6/dist-packages/sklearn/ensemble/forest.py:737: UserWarning: Some inputs do not have OOB scores. This probably means too few trees were used to compute any reliable oob estimates.\n",
            "  warn(\"Some inputs do not have OOB scores. \"\n"
          ],
          "name": "stderr"
        },
        {
          "output_type": "stream",
          "text": [
            "CPU times: user 1.73 s, sys: 5.02 ms, total: 1.73 s\n",
            "Wall time: 943 ms\n",
            "[0.12947898847698863, 0.30151965080873405, 0.96527981591862, 0.8124142866167801, -1.4481623491591842]\n"
          ],
          "name": "stdout"
        }
      ]
    },
    {
      "cell_type": "code",
      "metadata": {
        "id": "UG3kc0vKgkLl",
        "colab_type": "code",
        "outputId": "bd367bb8-d17b-4a4e-f0d1-1131af6a22a8",
        "colab": {
          "base_uri": "https://localhost:8080/",
          "height": 34
        }
      },
      "source": [
        "m = RandomForestRegressor(n_estimators=40, n_jobs=-1, oob_score=True)\n",
        "m.fit(X_train, y_train)\n",
        "print_score(m)"
      ],
      "execution_count": 0,
      "outputs": [
        {
          "output_type": "stream",
          "text": [
            "[0.11220345002824397, 0.2872851580334704, 0.9739267094165143, 0.8297077453090774, 0.8159481321547034]\n"
          ],
          "name": "stdout"
        }
      ]
    },
    {
      "cell_type": "markdown",
      "metadata": {
        "id": "11qZebJSh1Zw",
        "colab_type": "text"
      },
      "source": [
        "# Tree building parameters\n",
        "\n",
        "Playing with hyperparameters"
      ]
    },
    {
      "cell_type": "markdown",
      "metadata": {
        "id": "9On5FzgqinAQ",
        "colab_type": "text"
      },
      "source": [
        "Another way to reduce over-fitting is to grow our trees less deeply. We do this by specifying (with min_samples_leaf) that we require some minimum number of rows in every leaf node. This has two benefits:\n",
        "\n",
        "- There are less decision rules for each leaf node; simpler models should generalize better\n",
        "\n",
        "- The predictions are made by averaging more rows in the leaf node, resulting in less volatility"
      ]
    },
    {
      "cell_type": "code",
      "metadata": {
        "id": "0BWEgzsVhMMk",
        "colab_type": "code",
        "outputId": "612d6a46-78a8-4faa-a5f2-da1360f5ff69",
        "colab": {
          "base_uri": "https://localhost:8080/",
          "height": 34
        }
      },
      "source": [
        "m = RandomForestRegressor(n_estimators=40, min_samples_leaf=3, n_jobs=-1, oob_score=True)\n",
        "m.fit(X_train, y_train)\n",
        "print_score(m)"
      ],
      "execution_count": 0,
      "outputs": [
        {
          "output_type": "stream",
          "text": [
            "[0.16187472665969854, 0.2908435466494167, 0.9457322870172464, 0.8254630509368239, 0.815010747516502]\n"
          ],
          "name": "stdout"
        }
      ]
    },
    {
      "cell_type": "markdown",
      "metadata": {
        "id": "r23xzY0sjVFm",
        "colab_type": "text"
      },
      "source": [
        "We can also increase the amount of variation amongst the trees by not only use a sample of rows for each tree, but to also using a sample of columns for each split. We do this by specifying max_features, which is the proportion of features to randomly select from at each split.\n",
        "- None\n",
        "- 0.5\n",
        "- 'sqrt'\n",
        "- 1, 3, 5, 10, 25, 100"
      ]
    },
    {
      "cell_type": "code",
      "metadata": {
        "id": "8eHxnR8Yifu8",
        "colab_type": "code",
        "outputId": "d1c48e59-7c12-494a-eec4-bbc1489f4410",
        "colab": {
          "base_uri": "https://localhost:8080/",
          "height": 34
        }
      },
      "source": [
        "m = RandomForestRegressor(n_estimators=40, min_samples_leaf=3, max_features=0.5, n_jobs=-1, oob_score=True)\n",
        "m.fit(X_train, y_train)\n",
        "print_score(m)"
      ],
      "execution_count": 0,
      "outputs": [
        {
          "output_type": "stream",
          "text": [
            "[0.17359496357111356, 0.28891064946387307, 0.937589499514308, 0.8277752284361906, 0.8159045119487166]\n"
          ],
          "name": "stdout"
        }
      ]
    },
    {
      "cell_type": "code",
      "metadata": {
        "id": "Gt8vaQzVjsGj",
        "colab_type": "code",
        "colab": {}
      },
      "source": [
        ""
      ],
      "execution_count": 0,
      "outputs": []
    }
  ]
}